{
 "cells": [
  {
   "cell_type": "markdown",
   "metadata": {},
   "source": [
    "# Convert a large number of pdf files to image files then crop them."
   ]
  },
  {
   "cell_type": "code",
   "execution_count": 1,
   "metadata": {},
   "outputs": [],
   "source": [
    "import glob\n",
    "import os\n",
    "from pdf2image import convert_from_path\n",
    "from tqdm import tqdm\n",
    "from PIL import Image"
   ]
  },
  {
   "cell_type": "code",
   "execution_count": 2,
   "metadata": {},
   "outputs": [],
   "source": [
    "pdf_path = 'Data\\\\pdf\\\\*.pdf'\n",
    "img_dir = 'Data\\\\img\\\\'\n",
    "crop_dir = 'Data\\\\img_crop\\\\'"
   ]
  },
  {
   "cell_type": "markdown",
   "metadata": {},
   "source": [
    "## Find all pdf files to be converted.\n",
    "<img src=\"https://github.com/okagen/pyConvertPdfToImageThenCrop/blob/master/Data/img/Sample-01-1.png?raw=true\" width=\"200\">"
   ]
  },
  {
   "cell_type": "code",
   "execution_count": 4,
   "metadata": {},
   "outputs": [
    {
     "data": {
      "text/plain": [
       "['Data\\\\pdf\\\\Sample-01.pdf',\n",
       " 'Data\\\\pdf\\\\Sample-02.pdf',\n",
       " 'Data\\\\pdf\\\\Sample-03.pdf',\n",
       " 'Data\\\\pdf\\\\Sample-04.pdf',\n",
       " 'Data\\\\pdf\\\\Sample-05.pdf',\n",
       " 'Data\\\\pdf\\\\Sample-06.pdf',\n",
       " 'Data\\\\pdf\\\\Sample-07.pdf',\n",
       " 'Data\\\\pdf\\\\Sample-08.pdf',\n",
       " 'Data\\\\pdf\\\\Sample-09.pdf',\n",
       " 'Data\\\\pdf\\\\Sample-10.pdf']"
      ]
     },
     "metadata": {},
     "output_type": "display_data"
    }
   ],
   "source": [
    "pdfFiles = glob.glob(pdf_path)\n",
    "display(pdfFiles)"
   ]
  },
  {
   "cell_type": "markdown",
   "metadata": {},
   "source": [
    "## Create a directory to store image files if it doesn't exist."
   ]
  },
  {
   "cell_type": "code",
   "execution_count": 5,
   "metadata": {},
   "outputs": [
    {
     "name": "stdout",
     "output_type": "stream",
     "text": [
      "'Data\\img\\' has existed.\n"
     ]
    }
   ],
   "source": [
    "if not os.path.exists(img_dir):\n",
    "    os.mkdir(img_dir)\n",
    "    print(\"'\" + img_dir + \"'\" + ' has been created.')\n",
    "else:\n",
    "    print(\"'\" + img_dir + \"'\" + ' has existed.')\n",
    "    "
   ]
  },
  {
   "cell_type": "markdown",
   "metadata": {},
   "source": [
    "## Convert pdf files to png files.\n",
    "\n",
    "I could not "
   ]
  },
  {
   "cell_type": "code",
   "execution_count": 6,
   "metadata": {
    "scrolled": true
   },
   "outputs": [
    {
     "name": "stderr",
     "output_type": "stream",
     "text": [
      "100%|██████████| 10/10 [00:02<00:00,  3.40it/s]\n"
     ]
    }
   ],
   "source": [
    "countCnvFiles = 0\n",
    "progress1 = tqdm(total=len(pdfFiles))\n",
    "\n",
    "for pdf in pdfFiles:\n",
    "    \n",
    "    # 'Data\\\\pdf\\\\Sample-01.pdf' -> 'Sample-01.jpg'\n",
    "    basename = os.path.basename(pdf)\n",
    "    basenameWoExt = os.path.splitext(basename)[0]\n",
    "\n",
    "    if os.path.exists(pdf):\n",
    "        pages = convert_from_path(pdf)\n",
    "        i = 0\n",
    "        for img in pages:\n",
    "            imgPath = img_dir + basenameWoExt + \"-\" +  str(i+1) + '.png' \n",
    "            img.save(imgPath, 'png')\n",
    "            i += 1\n",
    "    else:\n",
    "        print(\"The file does not exist \", pdf)\n",
    "    \n",
    "    # Show a progress bar.\n",
    "    progress1.update(1)\n",
    "\n",
    "progress1.close()"
   ]
  },
  {
   "cell_type": "markdown",
   "metadata": {},
   "source": [
    "## Find all image files to be cropped."
   ]
  },
  {
   "cell_type": "code",
   "execution_count": 8,
   "metadata": {},
   "outputs": [
    {
     "data": {
      "text/plain": [
       "['Data\\\\img\\\\Sample-01-1.png',\n",
       " 'Data\\\\img\\\\Sample-02-1.png',\n",
       " 'Data\\\\img\\\\Sample-03-1.png',\n",
       " 'Data\\\\img\\\\Sample-04-1.png',\n",
       " 'Data\\\\img\\\\Sample-05-1.png',\n",
       " 'Data\\\\img\\\\Sample-06-1.png',\n",
       " 'Data\\\\img\\\\Sample-07-1.png',\n",
       " 'Data\\\\img\\\\Sample-08-1.png',\n",
       " 'Data\\\\img\\\\Sample-09-1.png',\n",
       " 'Data\\\\img\\\\Sample-10-1.png']"
      ]
     },
     "metadata": {},
     "output_type": "display_data"
    }
   ],
   "source": [
    "imgFiles = glob.glob(img_dir + \"*.png\")\n",
    "display(imgFiles)"
   ]
  },
  {
   "cell_type": "markdown",
   "metadata": {},
   "source": [
    "## Create a directory to store cropped image files if it doesn't exist."
   ]
  },
  {
   "cell_type": "code",
   "execution_count": 9,
   "metadata": {},
   "outputs": [
    {
     "name": "stdout",
     "output_type": "stream",
     "text": [
      "'Data\\img_crop\\' has existed.\n"
     ]
    }
   ],
   "source": [
    "if not os.path.exists(crop_dir):\n",
    "    os.mkdir(crop_dir)\n",
    "    print(\"'\" + crop_dir + \"'\" + ' has been created.')\n",
    "else:\n",
    "    print(\"'\" + crop_dir + \"'\" + ' has existed.')"
   ]
  },
  {
   "cell_type": "markdown",
   "metadata": {},
   "source": [
    "## Crop image files and save them in a different directory."
   ]
  },
  {
   "cell_type": "code",
   "execution_count": 10,
   "metadata": {},
   "outputs": [
    {
     "name": "stderr",
     "output_type": "stream",
     "text": [
      "100%|██████████| 10/10 [00:00<00:00, 18.38it/s]\n"
     ]
    }
   ],
   "source": [
    "countCropFiles = 0\n",
    "progress2 = tqdm(total=len(imgFiles))\n",
    "\n",
    "for img in imgFiles:\n",
    "    \n",
    "    # 'Data\\\\img\\\\Sample-01-1.png' -> 'Sample-01-1.png'\n",
    "    basename = os.path.basename(img)\n",
    "    basenameWoExt = os.path.splitext(basename)[0]\n",
    "\n",
    "    if os.path.exists(img):\n",
    "        # Ceate a directory to store cropped imeges.\n",
    "        if not os.path.exists(crop_dir + basenameWoExt): os.mkdir(crop_dir + basenameWoExt)\n",
    "        \n",
    "        # open a image file\n",
    "        im = Image.open(img)\n",
    "        \n",
    "        # Crop-1\n",
    "        im_crop = im.crop((515, 363, 1138, 730))\n",
    "        im_crop.save(crop_dir + basenameWoExt + \"\\\\\" + basenameWoExt + \"-01\" + \".png\", quality=95)\n",
    "\n",
    "        # Crop-2\n",
    "        im_crop = im.crop((515, 835, 1138, 1194))\n",
    "        im_crop.save(crop_dir + basenameWoExt + \"\\\\\" + basenameWoExt + \"-02\" + \".png\", quality=95)\n",
    "\n",
    "        # Crop-3\n",
    "        im_crop = im.crop((515, 1307, 1138, 1658))\n",
    "        im_crop.save(crop_dir + basenameWoExt + \"\\\\\" + basenameWoExt + \"-03\" + \".png\", quality=95)\n",
    "\n",
    "        # Crop-4\n",
    "        im_crop = im.crop((515, 1779, 1138, 2122))\n",
    "        im_crop.save(crop_dir + basenameWoExt + \"\\\\\" + basenameWoExt + \"-04\" + \".png\", quality=95)\n",
    "    else:\n",
    "        print(\"The file does not exist \", img)\n",
    "    \n",
    "    # Show a progress bar.\n",
    "    progress2.update(1)\n",
    "\n",
    "progress2.close()"
   ]
  },
  {
   "cell_type": "markdown",
   "metadata": {},
   "source": [
    " ## processing result\n",
    " \n",
    "|Crop-1|Crop-2|Crop-3|Crop-4|\n",
    "| :---: | :---: | :---: | :---: |\n",
    "|<img src=\"https://github.com/okagen/pyConvertPdfToImageThenCrop/blob/master/Data/img_crop/Sample-01-1/Sample-01-1-01.png?raw=true\" alt=\"Image of Sample-01-1-01.pdf\" width=\"100\">|<img src=\"https://github.com/okagen/pyConvertPdfToImageThenCrop/blob/master/Data/img_crop/Sample-01-1/Sample-01-1-02.png?raw=true\" alt=\"Image of Sample-01-1-02.pdf\" width=\"100\">|<img src=\"https://github.com/okagen/pyConvertPdfToImageThenCrop/blob/master/Data/img_crop/Sample-01-1/Sample-01-1-03.png?raw=true\" alt=\"Image of Sample-01-1-03.pdf\" width=\"100\">|<img src=\"https://github.com/okagen/pyConvertPdfToImageThenCrop/blob/master/Data/img_crop/Sample-01-1/Sample-01-1-04.png?raw=true\" alt=\"Image of Sample-01-1-04.pdf\" width=\"100\">|"
   ]
  }
 ],
 "metadata": {
  "kernelspec": {
   "display_name": "Python 3",
   "language": "python",
   "name": "python3"
  },
  "language_info": {
   "codemirror_mode": {
    "name": "ipython",
    "version": 3
   },
   "file_extension": ".py",
   "mimetype": "text/x-python",
   "name": "python",
   "nbconvert_exporter": "python",
   "pygments_lexer": "ipython3",
   "version": "3.7.3"
  }
 },
 "nbformat": 4,
 "nbformat_minor": 2
}
